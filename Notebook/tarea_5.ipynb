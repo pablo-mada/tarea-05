{
 "cells": [
  {
   "cell_type": "code",
   "execution_count": 1,
   "metadata": {},
   "outputs": [
    {
     "name": "stdout",
     "output_type": "stream",
     "text": [
      "Tamaño del DataFrame: 150 filas y 5 columnas\n",
      "   sepal length  sepal width  petal length  petal width        class\n",
      "0           5.1          3.5           1.4          0.2  Iris-setosa\n",
      "1           4.9          3.0           1.4          0.2  Iris-setosa\n",
      "2           4.7          3.2           1.3          0.2  Iris-setosa\n",
      "3           4.6          3.1           1.5          0.2  Iris-setosa\n",
      "4           5.0          3.6           1.4          0.2  Iris-setosa\n"
     ]
    }
   ],
   "source": [
    "import pandas as pd\n",
    "url = \"https://raw.githubusercontent.com/plotly/datasets/master/iris-data.csv\"\n",
    "df = pd.read_csv(url)\n",
    "\n",
    "tamaño = df.shape\n",
    "\n",
    "print(f\"Tamaño del DataFrame: {tamaño[0]} filas y {tamaño[1]} columnas\")\n",
    "\n",
    "print(df.head())"
   ]
  },
  {
   "cell_type": "markdown",
   "metadata": {},
   "source": [
    "# Qué columnas tiene el dataset y que representan.\n",
    "Las columnas del dataset representan las partes de tres especies de Flor Iris y el tipo\n",
    "\n",
    "- Setosa\n",
    "- Virginica\n",
    "- Versicolor\n",
    "\n",
    "Largo, ancho del sepalo y petalo."
   ]
  },
  {
   "cell_type": "code",
   "execution_count": 3,
   "metadata": {},
   "outputs": [
    {
     "name": "stdout",
     "output_type": "stream",
     "text": [
      "Nombres de las columnas:\n",
      " Index(['sepal length', 'sepal width', 'petal length', 'petal width', 'class'], dtype='object')\n"
     ]
    }
   ],
   "source": [
    "nombres_columnas = df.columns\n",
    "print(\"Nombres de las columnas:\\n\", nombres_columnas)\n"
   ]
  },
  {
   "cell_type": "markdown",
   "metadata": {},
   "source": [
    "# ¿Existen valores nulos?"
   ]
  },
  {
   "cell_type": "code",
   "execution_count": 6,
   "metadata": {},
   "outputs": [
    {
     "name": "stdout",
     "output_type": "stream",
     "text": [
      "Valores nulos por columna:\n",
      " \n",
      " sepal length    0\n",
      "sepal width     0\n",
      "petal length    0\n",
      "petal width     0\n",
      "class           0\n",
      "dtype: int64\n"
     ]
    }
   ],
   "source": [
    "valores_nulos = df.isnull().sum()     #si son nulos, los sumamos\n",
    "print(\"Valores nulos por columna:\\n \\n\",valores_nulos)"
   ]
  },
  {
   "cell_type": "markdown",
   "metadata": {},
   "source": [
    "# Estadísticas de cada columna numérica \n",
    "utilice `df.describe()`"
   ]
  },
  {
   "cell_type": "code",
   "execution_count": 8,
   "metadata": {},
   "outputs": [
    {
     "name": "stdout",
     "output_type": "stream",
     "text": [
      "       sepal length  sepal width  petal length  petal width\n",
      "count    150.000000   150.000000    150.000000   150.000000\n",
      "mean       5.843333     3.054000      3.758667     1.198667\n",
      "std        0.828066     0.433594      1.764420     0.763161\n",
      "min        4.300000     2.000000      1.000000     0.100000\n",
      "25%        5.100000     2.800000      1.600000     0.300000\n",
      "50%        5.800000     3.000000      4.350000     1.300000\n",
      "75%        6.400000     3.300000      5.100000     1.800000\n",
      "max        7.900000     4.400000      6.900000     2.500000\n"
     ]
    }
   ],
   "source": [
    "estadisticas = df.describe()\n",
    "print(estadisticas)"
   ]
  },
  {
   "cell_type": "markdown",
   "metadata": {},
   "source": [
    "# ¿Cuántas filas existen para cada clase de flor?\n",
    "\n",
    "Respuesta: Cada tipo flor tiene 50 filas."
   ]
  },
  {
   "cell_type": "code",
   "execution_count": 7,
   "metadata": {},
   "outputs": [
    {
     "name": "stdout",
     "output_type": "stream",
     "text": [
      "(50, 5)\n",
      "(50, 5)\n",
      "(50, 5)\n"
     ]
    }
   ],
   "source": [
    "setosa_df = df[df['class'] == 'Iris-setosa']  #Definimos un Dataframe para los que la columna class es Iris.setosa\n",
    "print(setosa_df.shape)\n",
    "\n",
    "versicolor_df = df[df['class'] == 'Iris-versicolor']    #idem anterior\n",
    "print(versicolor_df.shape)\n",
    "\n",
    "virginica_df = df[df['class'] == 'Iris-virginica']     #idem\n",
    "print(virginica_df.shape)"
   ]
  },
  {
   "cell_type": "markdown",
   "metadata": {},
   "source": []
  }
 ],
 "metadata": {
  "kernelspec": {
   "display_name": "base",
   "language": "python",
   "name": "python3"
  },
  "language_info": {
   "codemirror_mode": {
    "name": "ipython",
    "version": 3
   },
   "file_extension": ".py",
   "mimetype": "text/x-python",
   "name": "python",
   "nbconvert_exporter": "python",
   "pygments_lexer": "ipython3",
   "version": "3.11.7"
  }
 },
 "nbformat": 4,
 "nbformat_minor": 2
}
